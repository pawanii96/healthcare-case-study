{
 "cells": [
  {
   "cell_type": "code",
   "execution_count": 39,
   "metadata": {},
   "outputs": [],
   "source": [
    "import pandas as pd\n",
    "import numpy as np\n",
    "import scipy as stas\n",
    "import matplotlib as plt"
   ]
  },
  {
   "cell_type": "code",
   "execution_count": 40,
   "metadata": {},
   "outputs": [],
   "source": [
    "charge_in = pd.read_csv(\"/Users/pawani/Desktop/data analytix/python/case studies/python_case studies/9. End to End Foundation Case Study-1/Medicare_Charge_Inpatient_DRG100_DRG_Summary_by_DRG_FY2011.csv\")\n",
    "charge_out = pd.read_csv(\"/Users/pawani/Desktop/data analytix/python/case studies/python_case studies/9. End to End Foundation Case Study-1/Medicare_Charge_Outpatient_APC30_Summary_by_APC_CY2011.csv\")\n",
    "provider_in = pd.read_csv(\"/Users/pawani/Desktop/data analytix/python/case studies/python_case studies/9. End to End Foundation Case Study-1/Medicare_Provider_Charge_Inpatient_DRG100_FY2011.csv\")\n",
    "provider_out = pd.read_csv(\"/Users/pawani/Desktop/data analytix/python/case studies/python_case studies/9. End to End Foundation Case Study-1/Medicare_Provider_Charge_Outpatient_APC30_CY2011_v2.csv\")"
   ]
  },
  {
   "cell_type": "code",
   "execution_count": 41,
   "metadata": {},
   "outputs": [],
   "source": [
    "# Identify providers that overcharge for certain procedures or regions where procedures are too expensive\n",
    "#A- High cost variation\n",
    "# for in-patient\n",
    "a=provider_in[['DRG Definition','Provider State','Average Medicare Payments']]\n",
    "\n",
    "amax=a.loc[a.groupby(['DRG Definition','Provider State'])['Average Medicare Payments'].idxmax()].reset_index(drop=True)\n",
    "amin=a.loc[a.groupby(['DRG Definition','Provider State'])['Average Medicare Payments'].idxmin()].reset_index(drop=True)\n",
    "aa = amax"
   ]
  },
  {
   "cell_type": "code",
   "execution_count": 42,
   "metadata": {},
   "outputs": [],
   "source": [
    "aa['var'] = amax['Average Medicare Payments'] - amin['Average Medicare Payments']"
   ]
  },
  {
   "cell_type": "code",
   "execution_count": 48,
   "metadata": {},
   "outputs": [],
   "source": [
    "del aa['Average Medicare Payments']"
   ]
  },
  {
   "cell_type": "code",
   "execution_count": 51,
   "metadata": {},
   "outputs": [
    {
     "data": {
      "text/html": [
       "<div>\n",
       "<style scoped>\n",
       "    .dataframe tbody tr th:only-of-type {\n",
       "        vertical-align: middle;\n",
       "    }\n",
       "\n",
       "    .dataframe tbody tr th {\n",
       "        vertical-align: top;\n",
       "    }\n",
       "\n",
       "    .dataframe thead th {\n",
       "        text-align: right;\n",
       "    }\n",
       "</style>\n",
       "<table border=\"1\" class=\"dataframe\">\n",
       "  <thead>\n",
       "    <tr style=\"text-align: right;\">\n",
       "      <th></th>\n",
       "      <th>DRG Definition</th>\n",
       "      <th>Provider State</th>\n",
       "      <th>var</th>\n",
       "    </tr>\n",
       "  </thead>\n",
       "  <tbody>\n",
       "    <tr>\n",
       "      <td>20</td>\n",
       "      <td>039 - EXTRACRANIAL PROCEDURES W/O CC/MCC</td>\n",
       "      <td>MD</td>\n",
       "      <td>11506.646106</td>\n",
       "    </tr>\n",
       "    <tr>\n",
       "      <td>55</td>\n",
       "      <td>057 - DEGENERATIVE NERVOUS SYSTEM DISORDERS W/...</td>\n",
       "      <td>CA</td>\n",
       "      <td>18335.419643</td>\n",
       "    </tr>\n",
       "    <tr>\n",
       "      <td>122</td>\n",
       "      <td>064 - INTRACRANIAL HEMORRHAGE OR CEREBRAL INFA...</td>\n",
       "      <td>MD</td>\n",
       "      <td>40323.965461</td>\n",
       "    </tr>\n",
       "    <tr>\n",
       "      <td>157</td>\n",
       "      <td>065 - INTRACRANIAL HEMORRHAGE OR CEREBRAL INFA...</td>\n",
       "      <td>CA</td>\n",
       "      <td>17437.811237</td>\n",
       "    </tr>\n",
       "    <tr>\n",
       "      <td>208</td>\n",
       "      <td>066 - INTRACRANIAL HEMORRHAGE OR CEREBRAL INFA...</td>\n",
       "      <td>CA</td>\n",
       "      <td>9972.780745</td>\n",
       "    </tr>\n",
       "  </tbody>\n",
       "</table>\n",
       "</div>"
      ],
      "text/plain": [
       "                                        DRG Definition Provider State  \\\n",
       "20            039 - EXTRACRANIAL PROCEDURES W/O CC/MCC             MD   \n",
       "55   057 - DEGENERATIVE NERVOUS SYSTEM DISORDERS W/...             CA   \n",
       "122  064 - INTRACRANIAL HEMORRHAGE OR CEREBRAL INFA...             MD   \n",
       "157  065 - INTRACRANIAL HEMORRHAGE OR CEREBRAL INFA...             CA   \n",
       "208  066 - INTRACRANIAL HEMORRHAGE OR CEREBRAL INFA...             CA   \n",
       "\n",
       "              var  \n",
       "20   11506.646106  \n",
       "55   18335.419643  \n",
       "122  40323.965461  \n",
       "157  17437.811237  \n",
       "208   9972.780745  "
      ]
     },
     "execution_count": 51,
     "metadata": {},
     "output_type": "execute_result"
    }
   ],
   "source": [
    "aa.loc[aa.groupby(['DRG Definition'])['var'].idxmax()].head()\n"
   ]
  },
  {
   "cell_type": "code",
   "execution_count": 59,
   "metadata": {},
   "outputs": [],
   "source": [
    "##for out-patient\n",
    "b = provider_out[['APC','Provider State','Average Total Payments']]"
   ]
  },
  {
   "cell_type": "code",
   "execution_count": 67,
   "metadata": {},
   "outputs": [
    {
     "data": {
      "text/html": [
       "<div>\n",
       "<style scoped>\n",
       "    .dataframe tbody tr th:only-of-type {\n",
       "        vertical-align: middle;\n",
       "    }\n",
       "\n",
       "    .dataframe tbody tr th {\n",
       "        vertical-align: top;\n",
       "    }\n",
       "\n",
       "    .dataframe thead th {\n",
       "        text-align: right;\n",
       "    }\n",
       "</style>\n",
       "<table border=\"1\" class=\"dataframe\">\n",
       "  <thead>\n",
       "    <tr style=\"text-align: right;\">\n",
       "      <th></th>\n",
       "      <th>APC</th>\n",
       "      <th>Provider State</th>\n",
       "      <th>var</th>\n",
       "    </tr>\n",
       "  </thead>\n",
       "  <tbody>\n",
       "    <tr>\n",
       "      <td>20</td>\n",
       "      <td>0012 - Level I Debridement &amp; Destruction</td>\n",
       "      <td>MI</td>\n",
       "      <td>20.593261</td>\n",
       "    </tr>\n",
       "    <tr>\n",
       "      <td>51</td>\n",
       "      <td>0013 - Level II Debridement &amp; Destruction</td>\n",
       "      <td>CA</td>\n",
       "      <td>47.025556</td>\n",
       "    </tr>\n",
       "    <tr>\n",
       "      <td>101</td>\n",
       "      <td>0015 - Level III Debridement &amp; Destruction</td>\n",
       "      <td>CA</td>\n",
       "      <td>83.536505</td>\n",
       "    </tr>\n",
       "    <tr>\n",
       "      <td>175</td>\n",
       "      <td>0019 - Level I Excision/ Biopsy</td>\n",
       "      <td>NY</td>\n",
       "      <td>180.010667</td>\n",
       "    </tr>\n",
       "    <tr>\n",
       "      <td>194</td>\n",
       "      <td>0020 - Level II Excision/ Biopsy</td>\n",
       "      <td>CA</td>\n",
       "      <td>296.625625</td>\n",
       "    </tr>\n",
       "  </tbody>\n",
       "</table>\n",
       "</div>"
      ],
      "text/plain": [
       "                                            APC Provider State         var\n",
       "20     0012 - Level I Debridement & Destruction             MI   20.593261\n",
       "51    0013 - Level II Debridement & Destruction             CA   47.025556\n",
       "101  0015 - Level III Debridement & Destruction             CA   83.536505\n",
       "175             0019 - Level I Excision/ Biopsy             NY  180.010667\n",
       "194            0020 - Level II Excision/ Biopsy             CA  296.625625"
      ]
     },
     "execution_count": 67,
     "metadata": {},
     "output_type": "execute_result"
    }
   ],
   "source": [
    "bmax=b.loc[b.groupby(['APC','Provider State'])['Average Total Payments'].idxmax()].reset_index(drop=True)\n",
    "bmin=b.loc[b.groupby(['APC','Provider State'])['Average Total Payments'].idxmin()].reset_index(drop=True)\n",
    "bb = bmax\n",
    "bb['var'] = bmax['Average Total Payments'] - bmin['Average Total Payments']\n",
    "del bb['Average Total Payments']\n",
    "bb.loc[bb.groupby(['APC'])['var'].idxmax()].head()\n"
   ]
  },
  {
   "cell_type": "code",
   "execution_count": 71,
   "metadata": {},
   "outputs": [
    {
     "data": {
      "text/html": [
       "<div>\n",
       "<style scoped>\n",
       "    .dataframe tbody tr th:only-of-type {\n",
       "        vertical-align: middle;\n",
       "    }\n",
       "\n",
       "    .dataframe tbody tr th {\n",
       "        vertical-align: top;\n",
       "    }\n",
       "\n",
       "    .dataframe thead th {\n",
       "        text-align: right;\n",
       "    }\n",
       "</style>\n",
       "<table border=\"1\" class=\"dataframe\">\n",
       "  <thead>\n",
       "    <tr style=\"text-align: right;\">\n",
       "      <th></th>\n",
       "      <th>DRG Definition</th>\n",
       "      <th>Provider Id</th>\n",
       "      <th>Provider Name</th>\n",
       "      <th>Provider Street Address</th>\n",
       "      <th>Provider City</th>\n",
       "      <th>Provider State</th>\n",
       "      <th>Provider Zip Code</th>\n",
       "      <th>Hospital Referral Region (HRR) Description</th>\n",
       "      <th>Total Discharges</th>\n",
       "      <th>Average Covered Charges</th>\n",
       "      <th>Average Total Payments</th>\n",
       "      <th>Average Medicare Payments</th>\n",
       "    </tr>\n",
       "  </thead>\n",
       "  <tbody>\n",
       "    <tr>\n",
       "      <td>39562</td>\n",
       "      <td>207 - RESPIRATORY SYSTEM DIAGNOSIS W VENTILATO...</td>\n",
       "      <td>50441</td>\n",
       "      <td>STANFORD HOSPITAL</td>\n",
       "      <td>300 PASTEUR DRIVE</td>\n",
       "      <td>STANFORD</td>\n",
       "      <td>CA</td>\n",
       "      <td>94305</td>\n",
       "      <td>CA - San Mateo County</td>\n",
       "      <td>11</td>\n",
       "      <td>929118.9091</td>\n",
       "      <td>156158.1818</td>\n",
       "      <td>154620.8182</td>\n",
       "    </tr>\n",
       "  </tbody>\n",
       "</table>\n",
       "</div>"
      ],
      "text/plain": [
       "                                          DRG Definition  Provider Id  \\\n",
       "39562  207 - RESPIRATORY SYSTEM DIAGNOSIS W VENTILATO...        50441   \n",
       "\n",
       "           Provider Name Provider Street Address Provider City Provider State  \\\n",
       "39562  STANFORD HOSPITAL       300 PASTEUR DRIVE      STANFORD             CA   \n",
       "\n",
       "       Provider Zip Code Hospital Referral Region (HRR) Description  \\\n",
       "39562              94305                      CA - San Mateo County   \n",
       "\n",
       "       Total Discharges  Average Covered Charges  Average Total Payments  \\\n",
       "39562                11              929118.9091             156158.1818   \n",
       "\n",
       "       Average Medicare Payments  \n",
       "39562                154620.8182  "
      ]
     },
     "execution_count": 71,
     "metadata": {},
     "output_type": "execute_result"
    }
   ],
   "source": [
    "##Highest cost claims by provider\n",
    "#for in patients\n",
    "provider_in.loc[provider_in['Average Total Payments']==provider_in['Average Total Payments'].max()]"
   ]
  },
  {
   "cell_type": "code",
   "execution_count": 73,
   "metadata": {},
   "outputs": [
    {
     "data": {
      "text/html": [
       "<div>\n",
       "<style scoped>\n",
       "    .dataframe tbody tr th:only-of-type {\n",
       "        vertical-align: middle;\n",
       "    }\n",
       "\n",
       "    .dataframe tbody tr th {\n",
       "        vertical-align: top;\n",
       "    }\n",
       "\n",
       "    .dataframe thead th {\n",
       "        text-align: right;\n",
       "    }\n",
       "</style>\n",
       "<table border=\"1\" class=\"dataframe\">\n",
       "  <thead>\n",
       "    <tr style=\"text-align: right;\">\n",
       "      <th></th>\n",
       "      <th>APC</th>\n",
       "      <th>Provider Id</th>\n",
       "      <th>Provider Name</th>\n",
       "      <th>Provider Street Address</th>\n",
       "      <th>Provider City</th>\n",
       "      <th>Provider State</th>\n",
       "      <th>Provider Zip Code</th>\n",
       "      <th>Hospital Referral Region (HRR) Description</th>\n",
       "      <th>Outpatient Services</th>\n",
       "      <th>Average  Estimated Submitted Charges</th>\n",
       "      <th>Average Total Payments</th>\n",
       "    </tr>\n",
       "  </thead>\n",
       "  <tbody>\n",
       "    <tr>\n",
       "      <td>4933</td>\n",
       "      <td>0074 - Level IV Endoscopy Upper Airway</td>\n",
       "      <td>50441</td>\n",
       "      <td>STANFORD HOSPITAL</td>\n",
       "      <td>300 PASTEUR DRIVE</td>\n",
       "      <td>STANFORD</td>\n",
       "      <td>CA</td>\n",
       "      <td>94305</td>\n",
       "      <td>CA - San Mateo County</td>\n",
       "      <td>190</td>\n",
       "      <td>7764.569632</td>\n",
       "      <td>2062.470526</td>\n",
       "    </tr>\n",
       "  </tbody>\n",
       "</table>\n",
       "</div>"
      ],
      "text/plain": [
       "                                         APC  Provider Id      Provider Name  \\\n",
       "4933  0074 - Level IV Endoscopy Upper Airway        50441  STANFORD HOSPITAL   \n",
       "\n",
       "     Provider Street Address Provider City Provider State  Provider Zip Code  \\\n",
       "4933       300 PASTEUR DRIVE      STANFORD             CA              94305   \n",
       "\n",
       "     Hospital Referral Region (HRR) Description  Outpatient Services  \\\n",
       "4933                      CA - San Mateo County                  190   \n",
       "\n",
       "      Average  Estimated Submitted Charges  Average Total Payments  \n",
       "4933                           7764.569632             2062.470526  "
      ]
     },
     "execution_count": 73,
     "metadata": {},
     "output_type": "execute_result"
    }
   ],
   "source": [
    "#for out patients\n",
    "provider_out.loc[provider_out['Average Total Payments']==provider_out['Average Total Payments'].max()]"
   ]
  },
  {
   "cell_type": "code",
   "execution_count": 78,
   "metadata": {},
   "outputs": [],
   "source": [
    "#Part1: C: Highest-Cost Claims by Region\n",
    "#for in patients\n",
    "provider_in.loc[provider_in.groupby('Provider State')['Average Total Payments'].idxmax()].reset_index()"
   ]
  },
  {
   "cell_type": "code",
   "execution_count": 80,
   "metadata": {},
   "outputs": [],
   "source": [
    "#for our patient\n",
    "provider_out.loc[provider_out.groupby('Provider State')['Average Total Payments'].idxmax()].reset_index()"
   ]
  },
  {
   "cell_type": "code",
   "execution_count": 86,
   "metadata": {},
   "outputs": [
    {
     "name": "stderr",
     "output_type": "stream",
     "text": [
      "/opt/anaconda3/lib/python3.7/site-packages/ipykernel_launcher.py:3: SettingWithCopyWarning: \n",
      "A value is trying to be set on a copy of a slice from a DataFrame.\n",
      "Try using .loc[row_indexer,col_indexer] = value instead\n",
      "\n",
      "See the caveats in the documentation: http://pandas.pydata.org/pandas-docs/stable/user_guide/indexing.html#returning-a-view-versus-a-copy\n",
      "  This is separate from the ipykernel package so we can avoid doing imports until\n",
      "/opt/anaconda3/lib/python3.7/site-packages/pandas/core/frame.py:4102: SettingWithCopyWarning: \n",
      "A value is trying to be set on a copy of a slice from a DataFrame\n",
      "\n",
      "See the caveats in the documentation: http://pandas.pydata.org/pandas-docs/stable/user_guide/indexing.html#returning-a-view-versus-a-copy\n",
      "  errors=errors,\n"
     ]
    },
    {
     "data": {
      "text/html": [
       "<div>\n",
       "<style scoped>\n",
       "    .dataframe tbody tr th:only-of-type {\n",
       "        vertical-align: middle;\n",
       "    }\n",
       "\n",
       "    .dataframe tbody tr th {\n",
       "        vertical-align: top;\n",
       "    }\n",
       "\n",
       "    .dataframe thead th {\n",
       "        text-align: right;\n",
       "    }\n",
       "</style>\n",
       "<table border=\"1\" class=\"dataframe\">\n",
       "  <thead>\n",
       "    <tr style=\"text-align: right;\">\n",
       "      <th></th>\n",
       "      <th>DRG Definition</th>\n",
       "      <th>Provider State</th>\n",
       "      <th>DPC</th>\n",
       "    </tr>\n",
       "  </thead>\n",
       "  <tbody>\n",
       "    <tr>\n",
       "      <td>14</td>\n",
       "      <td>039 - EXTRACRANIAL PROCEDURES W/O CC/MCC</td>\n",
       "      <td>IL</td>\n",
       "      <td>876.167969</td>\n",
       "    </tr>\n",
       "    <tr>\n",
       "      <td>66</td>\n",
       "      <td>057 - DEGENERATIVE NERVOUS SYSTEM DISORDERS W/...</td>\n",
       "      <td>IN</td>\n",
       "      <td>314.899408</td>\n",
       "    </tr>\n",
       "    <tr>\n",
       "      <td>116</td>\n",
       "      <td>064 - INTRACRANIAL HEMORRHAGE OR CEREBRAL INFA...</td>\n",
       "      <td>IL</td>\n",
       "      <td>1020.664062</td>\n",
       "    </tr>\n",
       "    <tr>\n",
       "      <td>164</td>\n",
       "      <td>065 - INTRACRANIAL HEMORRHAGE OR CEREBRAL INFA...</td>\n",
       "      <td>HI</td>\n",
       "      <td>1410.236111</td>\n",
       "    </tr>\n",
       "    <tr>\n",
       "      <td>235</td>\n",
       "      <td>066 - INTRACRANIAL HEMORRHAGE OR CEREBRAL INFA...</td>\n",
       "      <td>NJ</td>\n",
       "      <td>437.876033</td>\n",
       "    </tr>\n",
       "  </tbody>\n",
       "</table>\n",
       "</div>"
      ],
      "text/plain": [
       "                                        DRG Definition Provider State  \\\n",
       "14            039 - EXTRACRANIAL PROCEDURES W/O CC/MCC             IL   \n",
       "66   057 - DEGENERATIVE NERVOUS SYSTEM DISORDERS W/...             IN   \n",
       "116  064 - INTRACRANIAL HEMORRHAGE OR CEREBRAL INFA...             IL   \n",
       "164  065 - INTRACRANIAL HEMORRHAGE OR CEREBRAL INFA...             HI   \n",
       "235  066 - INTRACRANIAL HEMORRHAGE OR CEREBRAL INFA...             NJ   \n",
       "\n",
       "             DPC  \n",
       "14    876.167969  \n",
       "66    314.899408  \n",
       "116  1020.664062  \n",
       "164  1410.236111  \n",
       "235   437.876033  "
      ]
     },
     "execution_count": 86,
     "metadata": {},
     "output_type": "execute_result"
    }
   ],
   "source": [
    "#Part1: D: Highest Number of Procedures and Largest Differences between Claims and Reimbursements\n",
    "d=provider_in[['DRG Definition','Provider State','Total Discharges','Average Total Payments','Average Medicare Payments']]\n",
    "d['DPC']=(d['Average Total Payments']-d['Average Medicare Payments'])/d['Total Discharges']\n",
    "d.drop(['Total Discharges','Average Total Payments','Average Medicare Payments'],axis=1,inplace=True)\n",
    "dmax=d.loc[d.groupby(['DRG Definition','Provider State'])['DPC'].idxmax()].reset_index(drop=True)\n",
    "dmax.loc[dmax.groupby(['DRG Definition'])['DPC'].idxmax()].head()"
   ]
  },
  {
   "cell_type": "code",
   "execution_count": 87,
   "metadata": {},
   "outputs": [
    {
     "name": "stderr",
     "output_type": "stream",
     "text": [
      "/opt/anaconda3/lib/python3.7/site-packages/ipykernel_launcher.py:3: SettingWithCopyWarning: \n",
      "A value is trying to be set on a copy of a slice from a DataFrame.\n",
      "Try using .loc[row_indexer,col_indexer] = value instead\n",
      "\n",
      "See the caveats in the documentation: http://pandas.pydata.org/pandas-docs/stable/user_guide/indexing.html#returning-a-view-versus-a-copy\n",
      "  This is separate from the ipykernel package so we can avoid doing imports until\n"
     ]
    },
    {
     "data": {
      "text/html": [
       "<div>\n",
       "<style scoped>\n",
       "    .dataframe tbody tr th:only-of-type {\n",
       "        vertical-align: middle;\n",
       "    }\n",
       "\n",
       "    .dataframe tbody tr th {\n",
       "        vertical-align: top;\n",
       "    }\n",
       "\n",
       "    .dataframe thead th {\n",
       "        text-align: right;\n",
       "    }\n",
       "</style>\n",
       "<table border=\"1\" class=\"dataframe\">\n",
       "  <thead>\n",
       "    <tr style=\"text-align: right;\">\n",
       "      <th></th>\n",
       "      <th>APC</th>\n",
       "      <th>Provider State</th>\n",
       "      <th>DPO</th>\n",
       "    </tr>\n",
       "  </thead>\n",
       "  <tbody>\n",
       "    <tr>\n",
       "      <td>27</td>\n",
       "      <td>0012 - Level I Debridement &amp; Destruction</td>\n",
       "      <td>NE</td>\n",
       "      <td>55.162667</td>\n",
       "    </tr>\n",
       "    <tr>\n",
       "      <td>48</td>\n",
       "      <td>0013 - Level II Debridement &amp; Destruction</td>\n",
       "      <td>AL</td>\n",
       "      <td>398.107692</td>\n",
       "    </tr>\n",
       "    <tr>\n",
       "      <td>118</td>\n",
       "      <td>0015 - Level III Debridement &amp; Destruction</td>\n",
       "      <td>MI</td>\n",
       "      <td>233.392562</td>\n",
       "    </tr>\n",
       "    <tr>\n",
       "      <td>150</td>\n",
       "      <td>0019 - Level I Excision/ Biopsy</td>\n",
       "      <td>CA</td>\n",
       "      <td>2172.817083</td>\n",
       "    </tr>\n",
       "    <tr>\n",
       "      <td>234</td>\n",
       "      <td>0020 - Level II Excision/ Biopsy</td>\n",
       "      <td>VA</td>\n",
       "      <td>1350.947190</td>\n",
       "    </tr>\n",
       "  </tbody>\n",
       "</table>\n",
       "</div>"
      ],
      "text/plain": [
       "                                            APC Provider State          DPO\n",
       "27     0012 - Level I Debridement & Destruction             NE    55.162667\n",
       "48    0013 - Level II Debridement & Destruction             AL   398.107692\n",
       "118  0015 - Level III Debridement & Destruction             MI   233.392562\n",
       "150             0019 - Level I Excision/ Biopsy             CA  2172.817083\n",
       "234            0020 - Level II Excision/ Biopsy             VA  1350.947190"
      ]
     },
     "execution_count": 87,
     "metadata": {},
     "output_type": "execute_result"
    }
   ],
   "source": [
    "#For outpatient\n",
    "d=provider_out[['APC','Provider State','Outpatient Services','Average  Estimated Submitted Charges','Average Total Payments']]\n",
    "d['DPO']=(d['Average  Estimated Submitted Charges']-d['Average Total Payments'])/d['Outpatient Services']\n",
    "d.drop(['Outpatient Services','Average Total Payments','Average  Estimated Submitted Charges'],axis=1,inplace=True)\n",
    "dmax=d.loc[d.groupby(['APC','Provider State'])['DPO'].idxmax()].reset_index(drop=True)\n",
    "dmax.loc[dmax.groupby(['APC'])['DPO'].idxmax()].head()"
   ]
  },
  {
   "cell_type": "code",
   "execution_count": 110,
   "metadata": {},
   "outputs": [],
   "source": [
    "#Part2: Identify the three providers that are least similar to other providers and the three regions that are least similar to other regions\n",
    "\n",
    "# for in-patient\n",
    "a= provider_in.groupby('Provider Id')['Average Medicare Payments'].mean().reset_index()\n"
   ]
  },
  {
   "cell_type": "code",
   "execution_count": 111,
   "metadata": {},
   "outputs": [
    {
     "data": {
      "image/png": "[encoded data removed]",
      "text/plain": [
       "<Figure size 432x288 with 1 Axes>"
      ]
     },
     "metadata": {
      "needs_background": "light"
     },
     "output_type": "display_data"
    },
    {
     "data": {
      "text/html": [
       "<div>\n",
       "<style scoped>\n",
       "    .dataframe tbody tr th:only-of-type {\n",
       "        vertical-align: middle;\n",
       "    }\n",
       "\n",
       "    .dataframe tbody tr th {\n",
       "        vertical-align: top;\n",
       "    }\n",
       "\n",
       "    .dataframe thead th {\n",
       "        text-align: right;\n",
       "    }\n",
       "</style>\n",
       "<table border=\"1\" class=\"dataframe\">\n",
       "  <thead>\n",
       "    <tr style=\"text-align: right;\">\n",
       "      <th></th>\n",
       "      <th>Provider Id</th>\n",
       "      <th>Average Medicare Payments</th>\n",
       "      <th>Predicted</th>\n",
       "      <th>Residual</th>\n",
       "    </tr>\n",
       "  </thead>\n",
       "  <tbody>\n",
       "    <tr>\n",
       "      <td>395</td>\n",
       "      <td>50441</td>\n",
       "      <td>2.023323e+06</td>\n",
       "      <td>454769.328307</td>\n",
       "      <td>1.568554e+06</td>\n",
       "    </tr>\n",
       "    <tr>\n",
       "      <td>1382</td>\n",
       "      <td>210009</td>\n",
       "      <td>1.938586e+06</td>\n",
       "      <td>424724.713151</td>\n",
       "      <td>1.513861e+06</td>\n",
       "    </tr>\n",
       "    <tr>\n",
       "      <td>2012</td>\n",
       "      <td>330194</td>\n",
       "      <td>1.758179e+06</td>\n",
       "      <td>402095.413588</td>\n",
       "      <td>1.356084e+06</td>\n",
       "    </tr>\n",
       "  </tbody>\n",
       "</table>\n",
       "</div>"
      ],
      "text/plain": [
       "      Provider Id  Average Medicare Payments      Predicted      Residual\n",
       "395         50441               2.023323e+06  454769.328307  1.568554e+06\n",
       "1382       210009               1.938586e+06  424724.713151  1.513861e+06\n",
       "2012       330194               1.758179e+06  402095.413588  1.356084e+06"
      ]
     },
     "execution_count": 111,
     "metadata": {},
     "output_type": "execute_result"
    }
   ],
   "source": [
    "import matplotlib.pyplot as plt\n",
    "import numpy as np\n",
    "import seaborn as sns\n",
    "from sklearn.linear_model import LinearRegression\n",
    "from sklearn.preprocessing import StandardScaler\n",
    "from sklearn.neighbors import LocalOutlierFactor\n",
    "\n",
    "\n",
    "plt.scatter(a['Provider Id'],a['Average Medicare Payments'])\n",
    "plt.show()\n",
    "\n",
    "model = LinearRegression()\n",
    "model.fit(a['Provider Id'].values.reshape(-1,1),a['Average Medicare Payments'].values.reshape(-1,1))\n",
    "a['Predicted']=model.predict(a['Provider Id'].values.reshape(-1,1))\n",
    "a['Residual']=abs(a['Predicted']-a['Average Medicare Payments'])\n",
    "a.sort_values('Residual',ascending=False).head(3)\n"
   ]
  },
  {
   "cell_type": "code",
   "execution_count": 112,
   "metadata": {},
   "outputs": [
    {
     "data": {
      "image/png": "[encoded data removed]",
      "text/plain": [
       "<Figure size 432x288 with 1 Axes>"
      ]
     },
     "metadata": {
      "needs_background": "light"
     },
     "output_type": "display_data"
    }
   ],
   "source": [
    "# for out-patient\n",
    "a = provider_out.groupby('Provider Id')['Average Total Payments'].mean().reset_index()\n",
    "plt.scatter(a['Provider Id'],a['Average Total Payments'])\n",
    "plt.show()"
   ]
  },
  {
   "cell_type": "code",
   "execution_count": 120,
   "metadata": {},
   "outputs": [
    {
     "data": {
      "text/html": [
       "<div>\n",
       "<style scoped>\n",
       "    .dataframe tbody tr th:only-of-type {\n",
       "        vertical-align: middle;\n",
       "    }\n",
       "\n",
       "    .dataframe tbody tr th {\n",
       "        vertical-align: top;\n",
       "    }\n",
       "\n",
       "    .dataframe thead th {\n",
       "        text-align: right;\n",
       "    }\n",
       "</style>\n",
       "<table border=\"1\" class=\"dataframe\">\n",
       "  <thead>\n",
       "    <tr style=\"text-align: right;\">\n",
       "      <th></th>\n",
       "      <th>Provider Id</th>\n",
       "      <th>Average Total Payments</th>\n",
       "      <th>predict</th>\n",
       "      <th>res</th>\n",
       "    </tr>\n",
       "  </thead>\n",
       "  <tbody>\n",
       "    <tr>\n",
       "      <td>432</td>\n",
       "      <td>50714</td>\n",
       "      <td>960.595632</td>\n",
       "      <td>275.415810</td>\n",
       "      <td>685.179823</td>\n",
       "    </tr>\n",
       "    <tr>\n",
       "      <td>3134</td>\n",
       "      <td>670061</td>\n",
       "      <td>712.396480</td>\n",
       "      <td>252.954963</td>\n",
       "      <td>459.441517</td>\n",
       "    </tr>\n",
       "    <tr>\n",
       "      <td>1474</td>\n",
       "      <td>240069</td>\n",
       "      <td>629.085289</td>\n",
       "      <td>268.548781</td>\n",
       "      <td>360.536508</td>\n",
       "    </tr>\n",
       "  </tbody>\n",
       "</table>\n",
       "</div>"
      ],
      "text/plain": [
       "      Provider Id  Average Total Payments     predict         res\n",
       "432         50714              960.595632  275.415810  685.179823\n",
       "3134       670061              712.396480  252.954963  459.441517\n",
       "1474       240069              629.085289  268.548781  360.536508"
      ]
     },
     "execution_count": 120,
     "metadata": {},
     "output_type": "execute_result"
    }
   ],
   "source": [
    "model = LinearRegression()\n",
    "model.fit(a['Provider Id'].values.reshape(-1,1),a['Average Total Payments'].values.reshape(-1,1))\n",
    "a['predict'] = model.predict(a['Provider Id'].values.reshape(-1,1))\n",
    "a['res'] =abs( a['predict'] -a['Average Total Payments'] )\n",
    "a.sort_values('res',ascending=False).head(3)"
   ]
  },
  {
   "cell_type": "code",
   "execution_count": null,
   "metadata": {},
   "outputs": [],
   "source": []
  },
  {
   "cell_type": "code",
   "execution_count": null,
   "metadata": {},
   "outputs": [],
   "source": [
    "#Part2: B: Regions Least Like Others\n",
    "#for in-patient"
   ]
  },
  {
   "cell_type": "code",
   "execution_count": 136,
   "metadata": {},
   "outputs": [
    {
     "data": {
      "image/png": "[encoded data removed]",
      "text/plain": [
       "<Figure size 432x288 with 1 Axes>"
      ]
     },
     "metadata": {
      "needs_background": "light"
     },
     "output_type": "display_data"
    }
   ],
   "source": [
    "a = provider_in.groupby('Provider State')['Average Total Payments'].mean().reset_index()\n",
    "plt.scatter(a['Provider State'],a['Average Total Payments'])\n",
    "plt.show()"
   ]
  },
  {
   "cell_type": "code",
   "execution_count": 148,
   "metadata": {},
   "outputs": [
    {
     "data": {
      "text/html": [
       "<div>\n",
       "<style scoped>\n",
       "    .dataframe tbody tr th:only-of-type {\n",
       "        vertical-align: middle;\n",
       "    }\n",
       "\n",
       "    .dataframe tbody tr th {\n",
       "        vertical-align: top;\n",
       "    }\n",
       "\n",
       "    .dataframe thead th {\n",
       "        text-align: right;\n",
       "    }\n",
       "</style>\n",
       "<table border=\"1\" class=\"dataframe\">\n",
       "  <thead>\n",
       "    <tr style=\"text-align: right;\">\n",
       "      <th></th>\n",
       "      <th>Provider State</th>\n",
       "      <th>Average Total Payments</th>\n",
       "      <th>ind</th>\n",
       "      <th>predict</th>\n",
       "      <th>resid</th>\n",
       "    </tr>\n",
       "  </thead>\n",
       "  <tbody>\n",
       "    <tr>\n",
       "      <td>0</td>\n",
       "      <td>AK</td>\n",
       "      <td>14572.395796</td>\n",
       "      <td>0</td>\n",
       "      <td>10186.036831</td>\n",
       "      <td>4386.358965</td>\n",
       "    </tr>\n",
       "    <tr>\n",
       "      <td>7</td>\n",
       "      <td>DC</td>\n",
       "      <td>12998.033466</td>\n",
       "      <td>7</td>\n",
       "      <td>10082.477645</td>\n",
       "      <td>2915.555822</td>\n",
       "    </tr>\n",
       "    <tr>\n",
       "      <td>11</td>\n",
       "      <td>HI</td>\n",
       "      <td>12775.743473</td>\n",
       "      <td>11</td>\n",
       "      <td>10023.300967</td>\n",
       "      <td>2752.442506</td>\n",
       "    </tr>\n",
       "  </tbody>\n",
       "</table>\n",
       "</div>"
      ],
      "text/plain": [
       "   Provider State  Average Total Payments  ind       predict        resid\n",
       "0              AK            14572.395796    0  10186.036831  4386.358965\n",
       "7              DC            12998.033466    7  10082.477645  2915.555822\n",
       "11             HI            12775.743473   11  10023.300967  2752.442506"
      ]
     },
     "execution_count": 148,
     "metadata": {},
     "output_type": "execute_result"
    }
   ],
   "source": [
    "model = LinearRegression()\n",
    "a['ind'] = a.index\n",
    "model.fit(a['ind'].values.reshape(-1,1),a['Average Total Payments'].values.reshape(-1,1))\n",
    "a['predict'] = model.predict(a['ind'].values.reshape(-1,1))\n",
    "a['resid'] = abs( a['predict'] - a['Average Total Payments'] )\n",
    "a.sort_values('resid',ascending = False).head(3)"
   ]
  },
  {
   "cell_type": "code",
   "execution_count": 149,
   "metadata": {},
   "outputs": [
    {
     "data": {
      "image/png": "[encoded data removed]",
      "text/plain": [
       "<Figure size 432x288 with 1 Axes>"
      ]
     },
     "metadata": {
      "needs_background": "light"
     },
     "output_type": "display_data"
    }
   ],
   "source": [
    "#for out-patient\n",
    "a = provider_out.groupby('Provider State')['Average Total Payments'].mean().reset_index()\n",
    "plt.scatter(a['Provider State'],a['Average Total Payments'])\n",
    "plt.show()"
   ]
  },
  {
   "cell_type": "code",
   "execution_count": 150,
   "metadata": {},
   "outputs": [
    {
     "data": {
      "text/html": [
       "<div>\n",
       "<style scoped>\n",
       "    .dataframe tbody tr th:only-of-type {\n",
       "        vertical-align: middle;\n",
       "    }\n",
       "\n",
       "    .dataframe tbody tr th {\n",
       "        vertical-align: top;\n",
       "    }\n",
       "\n",
       "    .dataframe thead th {\n",
       "        text-align: right;\n",
       "    }\n",
       "</style>\n",
       "<table border=\"1\" class=\"dataframe\">\n",
       "  <thead>\n",
       "    <tr style=\"text-align: right;\">\n",
       "      <th></th>\n",
       "      <th>Provider State</th>\n",
       "      <th>Average Total Payments</th>\n",
       "      <th>ind</th>\n",
       "      <th>predict</th>\n",
       "      <th>resid</th>\n",
       "    </tr>\n",
       "  </thead>\n",
       "  <tbody>\n",
       "    <tr>\n",
       "      <td>30</td>\n",
       "      <td>NJ</td>\n",
       "      <td>311.496332</td>\n",
       "      <td>30</td>\n",
       "      <td>268.030556</td>\n",
       "      <td>43.465776</td>\n",
       "    </tr>\n",
       "    <tr>\n",
       "      <td>49</td>\n",
       "      <td>WY</td>\n",
       "      <td>307.213348</td>\n",
       "      <td>49</td>\n",
       "      <td>264.300992</td>\n",
       "      <td>42.912357</td>\n",
       "    </tr>\n",
       "    <tr>\n",
       "      <td>6</td>\n",
       "      <td>CT</td>\n",
       "      <td>312.802783</td>\n",
       "      <td>6</td>\n",
       "      <td>272.741585</td>\n",
       "      <td>40.061198</td>\n",
       "    </tr>\n",
       "  </tbody>\n",
       "</table>\n",
       "</div>"
      ],
      "text/plain": [
       "   Provider State  Average Total Payments  ind     predict      resid\n",
       "30             NJ              311.496332   30  268.030556  43.465776\n",
       "49             WY              307.213348   49  264.300992  42.912357\n",
       "6              CT              312.802783    6  272.741585  40.061198"
      ]
     },
     "execution_count": 150,
     "metadata": {},
     "output_type": "execute_result"
    }
   ],
   "source": [
    "model = LinearRegression()\n",
    "a['ind'] = a.index\n",
    "model.fit(a['ind'].values.reshape(-1,1),a['Average Total Payments'].values.reshape(-1,1))\n",
    "a['predict'] = model.predict(a['ind'].values.reshape(-1,1))\n",
    "a['resid'] = abs( a['predict'] - a['Average Total Payments'] )\n",
    "a.sort_values('resid',ascending = False).head(3)"
   ]
  },
  {
   "cell_type": "code",
   "execution_count": null,
   "metadata": {},
   "outputs": [],
   "source": []
  },
  {
   "cell_type": "code",
   "execution_count": null,
   "metadata": {},
   "outputs": [],
   "source": [
    "#Part3: Identify 10000 Medicare patients who are involved in anomalous activities.\n"
   ]
  },
  {
   "cell_type": "code",
   "execution_count": 151,
   "metadata": {},
   "outputs": [],
   "source": [
    "history = pd.read_csv(\"/Users/pawani/Desktop/data analytix/python/case studies/python_case studies/9. End to End Foundation Case Study-1/Patient_history_samp.csv\")\n",
    "transact = pd.read_csv(\"/Users/pawani/Desktop/data analytix/python/case studies/python_case studies/9. End to End Foundation Case Study-1/Transaction_coo.csv\")"
   ]
  },
  {
   "cell_type": "code",
   "execution_count": 153,
   "metadata": {},
   "outputs": [
    {
     "data": {
      "text/html": [
       "<div>\n",
       "<style scoped>\n",
       "    .dataframe tbody tr th:only-of-type {\n",
       "        vertical-align: middle;\n",
       "    }\n",
       "\n",
       "    .dataframe tbody tr th {\n",
       "        vertical-align: top;\n",
       "    }\n",
       "\n",
       "    .dataframe thead th {\n",
       "        text-align: right;\n",
       "    }\n",
       "</style>\n",
       "<table border=\"1\" class=\"dataframe\">\n",
       "  <thead>\n",
       "    <tr style=\"text-align: right;\">\n",
       "      <th></th>\n",
       "      <th>count</th>\n",
       "      <th>mean</th>\n",
       "      <th>std</th>\n",
       "      <th>min</th>\n",
       "      <th>25%</th>\n",
       "      <th>50%</th>\n",
       "      <th>75%</th>\n",
       "      <th>max</th>\n",
       "    </tr>\n",
       "  </thead>\n",
       "  <tbody>\n",
       "    <tr>\n",
       "      <td>id</td>\n",
       "      <td>500000.0</td>\n",
       "      <td>5.001562e+08</td>\n",
       "      <td>2.884206e+08</td>\n",
       "      <td>7561.0</td>\n",
       "      <td>2.505402e+08</td>\n",
       "      <td>500108495.0</td>\n",
       "      <td>749555638.5</td>\n",
       "      <td>999995713.0</td>\n",
       "    </tr>\n",
       "  </tbody>\n",
       "</table>\n",
       "</div>"
      ],
      "text/plain": [
       "       count          mean           std     min           25%          50%  \\\n",
       "id  500000.0  5.001562e+08  2.884206e+08  7561.0  2.505402e+08  500108495.0   \n",
       "\n",
       "            75%          max  \n",
       "id  749555638.5  999995713.0  "
      ]
     },
     "execution_count": 153,
     "metadata": {},
     "output_type": "execute_result"
    }
   ],
   "source": [
    "\n",
    "history.describe().T"
   ]
  },
  {
   "cell_type": "code",
   "execution_count": 154,
   "metadata": {},
   "outputs": [
    {
     "data": {
      "text/html": [
       "<div>\n",
       "<style scoped>\n",
       "    .dataframe tbody tr th:only-of-type {\n",
       "        vertical-align: middle;\n",
       "    }\n",
       "\n",
       "    .dataframe tbody tr th {\n",
       "        vertical-align: top;\n",
       "    }\n",
       "\n",
       "    .dataframe thead th {\n",
       "        text-align: right;\n",
       "    }\n",
       "</style>\n",
       "<table border=\"1\" class=\"dataframe\">\n",
       "  <thead>\n",
       "    <tr style=\"text-align: right;\">\n",
       "      <th></th>\n",
       "      <th>count</th>\n",
       "      <th>mean</th>\n",
       "      <th>std</th>\n",
       "      <th>min</th>\n",
       "      <th>25%</th>\n",
       "      <th>50%</th>\n",
       "      <th>75%</th>\n",
       "      <th>max</th>\n",
       "    </tr>\n",
       "  </thead>\n",
       "  <tbody>\n",
       "    <tr>\n",
       "      <td>id</td>\n",
       "      <td>1514809.0</td>\n",
       "      <td>5.000708e+08</td>\n",
       "      <td>2.883678e+08</td>\n",
       "      <td>7561.0</td>\n",
       "      <td>250442696.0</td>\n",
       "      <td>499936311.0</td>\n",
       "      <td>749356313.0</td>\n",
       "      <td>999995713.0</td>\n",
       "    </tr>\n",
       "    <tr>\n",
       "      <td>global_proc_id</td>\n",
       "      <td>1514809.0</td>\n",
       "      <td>3.847588e+01</td>\n",
       "      <td>3.123966e+01</td>\n",
       "      <td>1.0</td>\n",
       "      <td>22.0</td>\n",
       "      <td>26.0</td>\n",
       "      <td>42.0</td>\n",
       "      <td>130.0</td>\n",
       "    </tr>\n",
       "    <tr>\n",
       "      <td>count</td>\n",
       "      <td>1514809.0</td>\n",
       "      <td>1.000000e+00</td>\n",
       "      <td>0.000000e+00</td>\n",
       "      <td>1.0</td>\n",
       "      <td>1.0</td>\n",
       "      <td>1.0</td>\n",
       "      <td>1.0</td>\n",
       "      <td>1.0</td>\n",
       "    </tr>\n",
       "  </tbody>\n",
       "</table>\n",
       "</div>"
      ],
      "text/plain": [
       "                    count          mean           std     min          25%  \\\n",
       "id              1514809.0  5.000708e+08  2.883678e+08  7561.0  250442696.0   \n",
       "global_proc_id  1514809.0  3.847588e+01  3.123966e+01     1.0         22.0   \n",
       "count           1514809.0  1.000000e+00  0.000000e+00     1.0          1.0   \n",
       "\n",
       "                        50%          75%          max  \n",
       "id              499936311.0  749356313.0  999995713.0  \n",
       "global_proc_id         26.0         42.0        130.0  \n",
       "count                   1.0          1.0          1.0  "
      ]
     },
     "execution_count": 154,
     "metadata": {},
     "output_type": "execute_result"
    }
   ],
   "source": [
    "transact.describe().T"
   ]
  },
  {
   "cell_type": "code",
   "execution_count": 156,
   "metadata": {},
   "outputs": [
    {
     "name": "stdout",
     "output_type": "stream",
     "text": [
      "<class 'pandas.core.frame.DataFrame'>\n",
      "RangeIndex: 500000 entries, 0 to 499999\n",
      "Data columns (total 4 columns):\n",
      "id        500000 non-null int64\n",
      "age       497470 non-null object\n",
      "gender    500000 non-null object\n",
      "income    497469 non-null object\n",
      "dtypes: int64(1), object(3)\n",
      "memory usage: 15.3+ MB\n"
     ]
    }
   ],
   "source": [
    "history.info()"
   ]
  },
  {
   "cell_type": "code",
   "execution_count": 157,
   "metadata": {},
   "outputs": [
    {
     "data": {
      "text/html": [
       "<div>\n",
       "<style scoped>\n",
       "    .dataframe tbody tr th:only-of-type {\n",
       "        vertical-align: middle;\n",
       "    }\n",
       "\n",
       "    .dataframe tbody tr th {\n",
       "        vertical-align: top;\n",
       "    }\n",
       "\n",
       "    .dataframe thead th {\n",
       "        text-align: right;\n",
       "    }\n",
       "</style>\n",
       "<table border=\"1\" class=\"dataframe\">\n",
       "  <thead>\n",
       "    <tr style=\"text-align: right;\">\n",
       "      <th></th>\n",
       "      <th>id</th>\n",
       "      <th>age</th>\n",
       "      <th>gender</th>\n",
       "      <th>income</th>\n",
       "    </tr>\n",
       "  </thead>\n",
       "  <tbody>\n",
       "    <tr>\n",
       "      <td>0</td>\n",
       "      <td>306535165</td>\n",
       "      <td>65-74</td>\n",
       "      <td>F</td>\n",
       "      <td>24000-31999</td>\n",
       "    </tr>\n",
       "    <tr>\n",
       "      <td>1</td>\n",
       "      <td>742231134</td>\n",
       "      <td>65-74</td>\n",
       "      <td>F</td>\n",
       "      <td>48000+</td>\n",
       "    </tr>\n",
       "    <tr>\n",
       "      <td>2</td>\n",
       "      <td>928807201</td>\n",
       "      <td>75-84</td>\n",
       "      <td>M</td>\n",
       "      <td>24000-31999</td>\n",
       "    </tr>\n",
       "    <tr>\n",
       "      <td>3</td>\n",
       "      <td>83686538</td>\n",
       "      <td>&lt;65</td>\n",
       "      <td>F</td>\n",
       "      <td>32000-47999</td>\n",
       "    </tr>\n",
       "    <tr>\n",
       "      <td>4</td>\n",
       "      <td>755607449</td>\n",
       "      <td>65-74</td>\n",
       "      <td>F</td>\n",
       "      <td>48000+</td>\n",
       "    </tr>\n",
       "  </tbody>\n",
       "</table>\n",
       "</div>"
      ],
      "text/plain": [
       "          id    age gender       income\n",
       "0  306535165  65-74      F  24000-31999\n",
       "1  742231134  65-74      F       48000+\n",
       "2  928807201  75-84      M  24000-31999\n",
       "3   83686538    <65      F  32000-47999\n",
       "4  755607449  65-74      F       48000+"
      ]
     },
     "execution_count": 157,
     "metadata": {},
     "output_type": "execute_result"
    }
   ],
   "source": [
    "history.head()"
   ]
  },
  {
   "cell_type": "code",
   "execution_count": 158,
   "metadata": {},
   "outputs": [
    {
     "name": "stdout",
     "output_type": "stream",
     "text": [
      "<class 'pandas.core.frame.DataFrame'>\n",
      "RangeIndex: 1514809 entries, 0 to 1514808\n",
      "Data columns (total 3 columns):\n",
      "id                1514809 non-null int64\n",
      "global_proc_id    1514809 non-null int64\n",
      "count             1514809 non-null int64\n",
      "dtypes: int64(3)\n",
      "memory usage: 34.7 MB\n"
     ]
    }
   ],
   "source": [
    "transact.info()"
   ]
  },
  {
   "cell_type": "code",
   "execution_count": 159,
   "metadata": {},
   "outputs": [
    {
     "data": {
      "text/html": [
       "<div>\n",
       "<style scoped>\n",
       "    .dataframe tbody tr th:only-of-type {\n",
       "        vertical-align: middle;\n",
       "    }\n",
       "\n",
       "    .dataframe tbody tr th {\n",
       "        vertical-align: top;\n",
       "    }\n",
       "\n",
       "    .dataframe thead th {\n",
       "        text-align: right;\n",
       "    }\n",
       "</style>\n",
       "<table border=\"1\" class=\"dataframe\">\n",
       "  <thead>\n",
       "    <tr style=\"text-align: right;\">\n",
       "      <th></th>\n",
       "      <th>id</th>\n",
       "      <th>global_proc_id</th>\n",
       "      <th>count</th>\n",
       "    </tr>\n",
       "  </thead>\n",
       "  <tbody>\n",
       "    <tr>\n",
       "      <td>0</td>\n",
       "      <td>159125</td>\n",
       "      <td>1</td>\n",
       "      <td>1</td>\n",
       "    </tr>\n",
       "    <tr>\n",
       "      <td>1</td>\n",
       "      <td>191852</td>\n",
       "      <td>1</td>\n",
       "      <td>1</td>\n",
       "    </tr>\n",
       "    <tr>\n",
       "      <td>2</td>\n",
       "      <td>321083</td>\n",
       "      <td>1</td>\n",
       "      <td>1</td>\n",
       "    </tr>\n",
       "    <tr>\n",
       "      <td>3</td>\n",
       "      <td>383037</td>\n",
       "      <td>1</td>\n",
       "      <td>1</td>\n",
       "    </tr>\n",
       "    <tr>\n",
       "      <td>4</td>\n",
       "      <td>467729</td>\n",
       "      <td>1</td>\n",
       "      <td>1</td>\n",
       "    </tr>\n",
       "  </tbody>\n",
       "</table>\n",
       "</div>"
      ],
      "text/plain": [
       "       id  global_proc_id  count\n",
       "0  159125               1      1\n",
       "1  191852               1      1\n",
       "2  321083               1      1\n",
       "3  383037               1      1\n",
       "4  467729               1      1"
      ]
     },
     "execution_count": 159,
     "metadata": {},
     "output_type": "execute_result"
    }
   ],
   "source": [
    "transact.head()"
   ]
  },
  {
   "cell_type": "code",
   "execution_count": 162,
   "metadata": {},
   "outputs": [
    {
     "data": {
      "text/plain": [
       "id                0\n",
       "global_proc_id    0\n",
       "count             0\n",
       "dtype: int64"
      ]
     },
     "execution_count": 162,
     "metadata": {},
     "output_type": "execute_result"
    }
   ],
   "source": [
    "transact.isnull().sum()"
   ]
  },
  {
   "cell_type": "code",
   "execution_count": 166,
   "metadata": {},
   "outputs": [
    {
     "data": {
      "text/plain": [
       "id           0\n",
       "age          0\n",
       "gender       0\n",
       "income    2531\n",
       "dtype: int64"
      ]
     },
     "execution_count": 166,
     "metadata": {},
     "output_type": "execute_result"
    }
   ],
   "source": [
    "history.isnull().sum()"
   ]
  },
  {
   "cell_type": "code",
   "execution_count": 170,
   "metadata": {},
   "outputs": [],
   "source": [
    "##null values imputation\n",
    "history.age = history.age.fillna(history.age.mode()[0])\n",
    "history.income = history.income.fillna(history.income.mode()[0])\n"
   ]
  },
  {
   "cell_type": "code",
   "execution_count": 172,
   "metadata": {},
   "outputs": [],
   "source": [
    "transact=transact[['id','count']].groupby('id').sum()\n"
   ]
  },
  {
   "cell_type": "code",
   "execution_count": 175,
   "metadata": {},
   "outputs": [],
   "source": [
    "a = pd.concat([transact,history],join='inner',axis=1)"
   ]
  },
  {
   "cell_type": "code",
   "execution_count": 178,
   "metadata": {},
   "outputs": [],
   "source": [
    "a = a.set_index('id')"
   ]
  },
  {
   "cell_type": "code",
   "execution_count": 179,
   "metadata": {},
   "outputs": [
    {
     "name": "stdout",
     "output_type": "stream",
     "text": [
      "<class 'pandas.core.frame.DataFrame'>\n",
      "Int64Index: 256 entries, 461845361 to 566410288\n",
      "Data columns (total 4 columns):\n",
      "count     256 non-null int64\n",
      "age       256 non-null object\n",
      "gender    256 non-null object\n",
      "income    256 non-null object\n",
      "dtypes: int64(1), object(3)\n",
      "memory usage: 10.0+ KB\n"
     ]
    }
   ],
   "source": [
    "a.info()"
   ]
  },
  {
   "cell_type": "code",
   "execution_count": 180,
   "metadata": {},
   "outputs": [
    {
     "data": {
      "text/html": [
       "<div>\n",
       "<style scoped>\n",
       "    .dataframe tbody tr th:only-of-type {\n",
       "        vertical-align: middle;\n",
       "    }\n",
       "\n",
       "    .dataframe tbody tr th {\n",
       "        vertical-align: top;\n",
       "    }\n",
       "\n",
       "    .dataframe thead th {\n",
       "        text-align: right;\n",
       "    }\n",
       "</style>\n",
       "<table border=\"1\" class=\"dataframe\">\n",
       "  <thead>\n",
       "    <tr style=\"text-align: right;\">\n",
       "      <th></th>\n",
       "      <th>count</th>\n",
       "    </tr>\n",
       "  </thead>\n",
       "  <tbody>\n",
       "    <tr>\n",
       "      <td>count</td>\n",
       "      <td>256.000000</td>\n",
       "    </tr>\n",
       "    <tr>\n",
       "      <td>mean</td>\n",
       "      <td>2.882812</td>\n",
       "    </tr>\n",
       "    <tr>\n",
       "      <td>std</td>\n",
       "      <td>1.349632</td>\n",
       "    </tr>\n",
       "    <tr>\n",
       "      <td>min</td>\n",
       "      <td>1.000000</td>\n",
       "    </tr>\n",
       "    <tr>\n",
       "      <td>25%</td>\n",
       "      <td>2.000000</td>\n",
       "    </tr>\n",
       "    <tr>\n",
       "      <td>50%</td>\n",
       "      <td>3.000000</td>\n",
       "    </tr>\n",
       "    <tr>\n",
       "      <td>75%</td>\n",
       "      <td>4.000000</td>\n",
       "    </tr>\n",
       "    <tr>\n",
       "      <td>max</td>\n",
       "      <td>7.000000</td>\n",
       "    </tr>\n",
       "  </tbody>\n",
       "</table>\n",
       "</div>"
      ],
      "text/plain": [
       "            count\n",
       "count  256.000000\n",
       "mean     2.882812\n",
       "std      1.349632\n",
       "min      1.000000\n",
       "25%      2.000000\n",
       "50%      3.000000\n",
       "75%      4.000000\n",
       "max      7.000000"
      ]
     },
     "execution_count": 180,
     "metadata": {},
     "output_type": "execute_result"
    }
   ],
   "source": [
    "a.describe()"
   ]
  },
  {
   "cell_type": "code",
   "execution_count": 183,
   "metadata": {},
   "outputs": [],
   "source": [
    "# get dummy variables:\n",
    "dummy1 = pd.get_dummies(a['age'])\n",
    "dummy2 = pd.get_dummies(a['income'])\n",
    "dummy3 = pd.get_dummies(a['gender'])"
   ]
  },
  {
   "cell_type": "code",
   "execution_count": 205,
   "metadata": {},
   "outputs": [],
   "source": [
    "a = a.drop(columns = ['age','gender','income'])"
   ]
  },
  {
   "cell_type": "code",
   "execution_count": 208,
   "metadata": {},
   "outputs": [],
   "source": [
    "#get normal dist. data\n",
    "aa =StandardScaler().fit_transform(a)\n",
    "## getting it in df\n",
    "\n",
    "a1 = pd.DataFrame(aa)"
   ]
  },
  {
   "cell_type": "code",
   "execution_count": 211,
   "metadata": {},
   "outputs": [],
   "source": [
    "#changing names of columns and index\n",
    "a1.columns = a.columns\n",
    "a1.index = a.index"
   ]
  },
  {
   "cell_type": "code",
   "execution_count": 215,
   "metadata": {},
   "outputs": [],
   "source": [
    "xx=LocalOutlierFactor(n_neighbors=50,n_jobs=-1,contamination=0.002)\n",
    "xa=xx.fit_predict(a1)\n",
    "\n",
    "temp = pd.DataFrame(xa)"
   ]
  },
  {
   "cell_type": "code",
   "execution_count": 216,
   "metadata": {},
   "outputs": [
    {
     "data": {
      "text/html": [
       "<div>\n",
       "<style scoped>\n",
       "    .dataframe tbody tr th:only-of-type {\n",
       "        vertical-align: middle;\n",
       "    }\n",
       "\n",
       "    .dataframe tbody tr th {\n",
       "        vertical-align: top;\n",
       "    }\n",
       "\n",
       "    .dataframe thead th {\n",
       "        text-align: right;\n",
       "    }\n",
       "</style>\n",
       "<table border=\"1\" class=\"dataframe\">\n",
       "  <thead>\n",
       "    <tr style=\"text-align: right;\">\n",
       "      <th></th>\n",
       "      <th>0</th>\n",
       "    </tr>\n",
       "  </thead>\n",
       "  <tbody>\n",
       "    <tr>\n",
       "      <td>0</td>\n",
       "      <td>1</td>\n",
       "    </tr>\n",
       "    <tr>\n",
       "      <td>1</td>\n",
       "      <td>1</td>\n",
       "    </tr>\n",
       "    <tr>\n",
       "      <td>2</td>\n",
       "      <td>1</td>\n",
       "    </tr>\n",
       "    <tr>\n",
       "      <td>3</td>\n",
       "      <td>1</td>\n",
       "    </tr>\n",
       "    <tr>\n",
       "      <td>4</td>\n",
       "      <td>1</td>\n",
       "    </tr>\n",
       "    <tr>\n",
       "      <td>...</td>\n",
       "      <td>...</td>\n",
       "    </tr>\n",
       "    <tr>\n",
       "      <td>251</td>\n",
       "      <td>1</td>\n",
       "    </tr>\n",
       "    <tr>\n",
       "      <td>252</td>\n",
       "      <td>1</td>\n",
       "    </tr>\n",
       "    <tr>\n",
       "      <td>253</td>\n",
       "      <td>1</td>\n",
       "    </tr>\n",
       "    <tr>\n",
       "      <td>254</td>\n",
       "      <td>1</td>\n",
       "    </tr>\n",
       "    <tr>\n",
       "      <td>255</td>\n",
       "      <td>1</td>\n",
       "    </tr>\n",
       "  </tbody>\n",
       "</table>\n",
       "<p>256 rows × 1 columns</p>\n",
       "</div>"
      ],
      "text/plain": [
       "     0\n",
       "0    1\n",
       "1    1\n",
       "2    1\n",
       "3    1\n",
       "4    1\n",
       "..  ..\n",
       "251  1\n",
       "252  1\n",
       "253  1\n",
       "254  1\n",
       "255  1\n",
       "\n",
       "[256 rows x 1 columns]"
      ]
     },
     "execution_count": 216,
     "metadata": {},
     "output_type": "execute_result"
    }
   ],
   "source": [
    "temp"
   ]
  },
  {
   "cell_type": "code",
   "execution_count": 217,
   "metadata": {},
   "outputs": [],
   "source": [
    "temp.index = a1.index\n",
    "temp.columns = ['label']"
   ]
  },
  {
   "cell_type": "code",
   "execution_count": 218,
   "metadata": {},
   "outputs": [
    {
     "data": {
      "text/plain": [
       " 1    255\n",
       "-1      1\n",
       "Name: label, dtype: int64"
      ]
     },
     "execution_count": 218,
     "metadata": {},
     "output_type": "execute_result"
    }
   ],
   "source": [
    "temp.label.value_counts()"
   ]
  },
  {
   "cell_type": "code",
   "execution_count": 219,
   "metadata": {},
   "outputs": [],
   "source": [
    "ans =a1[temp.label==-1]\n"
   ]
  },
  {
   "cell_type": "code",
   "execution_count": 220,
   "metadata": {},
   "outputs": [
    {
     "data": {
      "text/html": [
       "<div>\n",
       "<style scoped>\n",
       "    .dataframe tbody tr th:only-of-type {\n",
       "        vertical-align: middle;\n",
       "    }\n",
       "\n",
       "    .dataframe tbody tr th {\n",
       "        vertical-align: top;\n",
       "    }\n",
       "\n",
       "    .dataframe thead th {\n",
       "        text-align: right;\n",
       "    }\n",
       "</style>\n",
       "<table border=\"1\" class=\"dataframe\">\n",
       "  <thead>\n",
       "    <tr style=\"text-align: right;\">\n",
       "      <th></th>\n",
       "      <th>count</th>\n",
       "      <th>16000-23999</th>\n",
       "      <th>24000-31999</th>\n",
       "      <th>32000-47999</th>\n",
       "      <th>48000+</th>\n",
       "      <th>&lt;16000</th>\n",
       "      <th>F</th>\n",
       "      <th>M</th>\n",
       "    </tr>\n",
       "    <tr>\n",
       "      <th>id</th>\n",
       "      <th></th>\n",
       "      <th></th>\n",
       "      <th></th>\n",
       "      <th></th>\n",
       "      <th></th>\n",
       "      <th></th>\n",
       "      <th></th>\n",
       "      <th></th>\n",
       "    </tr>\n",
       "  </thead>\n",
       "  <tbody>\n",
       "    <tr>\n",
       "      <td>720079615</td>\n",
       "      <td>3.056575</td>\n",
       "      <td>-0.535194</td>\n",
       "      <td>-0.474216</td>\n",
       "      <td>2.225643</td>\n",
       "      <td>-0.541229</td>\n",
       "      <td>-0.498779</td>\n",
       "      <td>0.861102</td>\n",
       "      <td>-0.861102</td>\n",
       "    </tr>\n",
       "  </tbody>\n",
       "</table>\n",
       "</div>"
      ],
      "text/plain": [
       "              count  16000-23999  24000-31999  32000-47999    48000+  \\\n",
       "id                                                                     \n",
       "720079615  3.056575    -0.535194    -0.474216     2.225643 -0.541229   \n",
       "\n",
       "             <16000         F         M  \n",
       "id                                       \n",
       "720079615 -0.498779  0.861102 -0.861102  "
      ]
     },
     "execution_count": 220,
     "metadata": {},
     "output_type": "execute_result"
    }
   ],
   "source": [
    "ans"
   ]
  },
  {
   "cell_type": "code",
   "execution_count": null,
   "metadata": {},
   "outputs": [],
   "source": []
  },
  {
   "cell_type": "code",
   "execution_count": null,
   "metadata": {},
   "outputs": [],
   "source": []
  },
  {
   "cell_type": "code",
   "execution_count": null,
   "metadata": {},
   "outputs": [],
   "source": []
  },
  {
   "cell_type": "code",
   "execution_count": null,
   "metadata": {},
   "outputs": [],
   "source": []
  },
  {
   "cell_type": "code",
   "execution_count": null,
   "metadata": {},
   "outputs": [],
   "source": []
  },
  {
   "cell_type": "code",
   "execution_count": null,
   "metadata": {},
   "outputs": [],
   "source": []
  },
  {
   "cell_type": "code",
   "execution_count": 203,
   "metadata": {},
   "outputs": [
    {
     "data": {
      "text/html": [
       "<div>\n",
       "<style scoped>\n",
       "    .dataframe tbody tr th:only-of-type {\n",
       "        vertical-align: middle;\n",
       "    }\n",
       "\n",
       "    .dataframe tbody tr th {\n",
       "        vertical-align: top;\n",
       "    }\n",
       "\n",
       "    .dataframe thead th {\n",
       "        text-align: right;\n",
       "    }\n",
       "</style>\n",
       "<table border=\"1\" class=\"dataframe\">\n",
       "  <thead>\n",
       "    <tr style=\"text-align: right;\">\n",
       "      <th></th>\n",
       "      <th>count</th>\n",
       "      <th>age</th>\n",
       "      <th>gender</th>\n",
       "      <th>income</th>\n",
       "      <th>16000-23999</th>\n",
       "      <th>24000-31999</th>\n",
       "      <th>32000-47999</th>\n",
       "      <th>48000+</th>\n",
       "      <th>&lt;16000</th>\n",
       "      <th>F</th>\n",
       "      <th>M</th>\n",
       "    </tr>\n",
       "    <tr>\n",
       "      <th>id</th>\n",
       "      <th></th>\n",
       "      <th></th>\n",
       "      <th></th>\n",
       "      <th></th>\n",
       "      <th></th>\n",
       "      <th></th>\n",
       "      <th></th>\n",
       "      <th></th>\n",
       "      <th></th>\n",
       "      <th></th>\n",
       "      <th></th>\n",
       "    </tr>\n",
       "  </thead>\n",
       "  <tbody>\n",
       "    <tr>\n",
       "      <td>461845361</td>\n",
       "      <td>2</td>\n",
       "      <td>65-74</td>\n",
       "      <td>F</td>\n",
       "      <td>24000-31999</td>\n",
       "      <td>0</td>\n",
       "      <td>1</td>\n",
       "      <td>0</td>\n",
       "      <td>0</td>\n",
       "      <td>0</td>\n",
       "      <td>1</td>\n",
       "      <td>0</td>\n",
       "    </tr>\n",
       "    <tr>\n",
       "      <td>268603906</td>\n",
       "      <td>2</td>\n",
       "      <td>65-74</td>\n",
       "      <td>M</td>\n",
       "      <td>32000-47999</td>\n",
       "      <td>0</td>\n",
       "      <td>0</td>\n",
       "      <td>1</td>\n",
       "      <td>0</td>\n",
       "      <td>0</td>\n",
       "      <td>0</td>\n",
       "      <td>1</td>\n",
       "    </tr>\n",
       "    <tr>\n",
       "      <td>751756883</td>\n",
       "      <td>4</td>\n",
       "      <td>65-74</td>\n",
       "      <td>F</td>\n",
       "      <td>48000+</td>\n",
       "      <td>0</td>\n",
       "      <td>0</td>\n",
       "      <td>0</td>\n",
       "      <td>1</td>\n",
       "      <td>0</td>\n",
       "      <td>1</td>\n",
       "      <td>0</td>\n",
       "    </tr>\n",
       "    <tr>\n",
       "      <td>362157816</td>\n",
       "      <td>2</td>\n",
       "      <td>75-84</td>\n",
       "      <td>M</td>\n",
       "      <td>24000-31999</td>\n",
       "      <td>0</td>\n",
       "      <td>1</td>\n",
       "      <td>0</td>\n",
       "      <td>0</td>\n",
       "      <td>0</td>\n",
       "      <td>0</td>\n",
       "      <td>1</td>\n",
       "    </tr>\n",
       "    <tr>\n",
       "      <td>64134733</td>\n",
       "      <td>6</td>\n",
       "      <td>75-84</td>\n",
       "      <td>M</td>\n",
       "      <td>24000-31999</td>\n",
       "      <td>0</td>\n",
       "      <td>1</td>\n",
       "      <td>0</td>\n",
       "      <td>0</td>\n",
       "      <td>0</td>\n",
       "      <td>0</td>\n",
       "      <td>1</td>\n",
       "    </tr>\n",
       "    <tr>\n",
       "      <td>...</td>\n",
       "      <td>...</td>\n",
       "      <td>...</td>\n",
       "      <td>...</td>\n",
       "      <td>...</td>\n",
       "      <td>...</td>\n",
       "      <td>...</td>\n",
       "      <td>...</td>\n",
       "      <td>...</td>\n",
       "      <td>...</td>\n",
       "      <td>...</td>\n",
       "      <td>...</td>\n",
       "    </tr>\n",
       "    <tr>\n",
       "      <td>970527740</td>\n",
       "      <td>2</td>\n",
       "      <td>&lt;65</td>\n",
       "      <td>M</td>\n",
       "      <td>&lt;16000</td>\n",
       "      <td>0</td>\n",
       "      <td>0</td>\n",
       "      <td>0</td>\n",
       "      <td>0</td>\n",
       "      <td>1</td>\n",
       "      <td>0</td>\n",
       "      <td>1</td>\n",
       "    </tr>\n",
       "    <tr>\n",
       "      <td>918968524</td>\n",
       "      <td>3</td>\n",
       "      <td>65-74</td>\n",
       "      <td>F</td>\n",
       "      <td>16000-23999</td>\n",
       "      <td>1</td>\n",
       "      <td>0</td>\n",
       "      <td>0</td>\n",
       "      <td>0</td>\n",
       "      <td>0</td>\n",
       "      <td>1</td>\n",
       "      <td>0</td>\n",
       "    </tr>\n",
       "    <tr>\n",
       "      <td>82269914</td>\n",
       "      <td>4</td>\n",
       "      <td>65-74</td>\n",
       "      <td>F</td>\n",
       "      <td>16000-23999</td>\n",
       "      <td>1</td>\n",
       "      <td>0</td>\n",
       "      <td>0</td>\n",
       "      <td>0</td>\n",
       "      <td>0</td>\n",
       "      <td>1</td>\n",
       "      <td>0</td>\n",
       "    </tr>\n",
       "    <tr>\n",
       "      <td>325184350</td>\n",
       "      <td>3</td>\n",
       "      <td>75-84</td>\n",
       "      <td>F</td>\n",
       "      <td>16000-23999</td>\n",
       "      <td>1</td>\n",
       "      <td>0</td>\n",
       "      <td>0</td>\n",
       "      <td>0</td>\n",
       "      <td>0</td>\n",
       "      <td>1</td>\n",
       "      <td>0</td>\n",
       "    </tr>\n",
       "    <tr>\n",
       "      <td>566410288</td>\n",
       "      <td>2</td>\n",
       "      <td>&lt;65</td>\n",
       "      <td>M</td>\n",
       "      <td>32000-47999</td>\n",
       "      <td>0</td>\n",
       "      <td>0</td>\n",
       "      <td>1</td>\n",
       "      <td>0</td>\n",
       "      <td>0</td>\n",
       "      <td>0</td>\n",
       "      <td>1</td>\n",
       "    </tr>\n",
       "  </tbody>\n",
       "</table>\n",
       "<p>256 rows × 11 columns</p>\n",
       "</div>"
      ],
      "text/plain": [
       "           count    age gender       income  16000-23999  24000-31999  \\\n",
       "id                                                                      \n",
       "461845361      2  65-74      F  24000-31999            0            1   \n",
       "268603906      2  65-74      M  32000-47999            0            0   \n",
       "751756883      4  65-74      F       48000+            0            0   \n",
       "362157816      2  75-84      M  24000-31999            0            1   \n",
       "64134733       6  75-84      M  24000-31999            0            1   \n",
       "...          ...    ...    ...          ...          ...          ...   \n",
       "970527740      2    <65      M       <16000            0            0   \n",
       "918968524      3  65-74      F  16000-23999            1            0   \n",
       "82269914       4  65-74      F  16000-23999            1            0   \n",
       "325184350      3  75-84      F  16000-23999            1            0   \n",
       "566410288      2    <65      M  32000-47999            0            0   \n",
       "\n",
       "           32000-47999  48000+  <16000  F  M  \n",
       "id                                            \n",
       "461845361            0       0       0  1  0  \n",
       "268603906            1       0       0  0  1  \n",
       "751756883            0       1       0  1  0  \n",
       "362157816            0       0       0  0  1  \n",
       "64134733             0       0       0  0  1  \n",
       "...                ...     ...     ... .. ..  \n",
       "970527740            0       0       1  0  1  \n",
       "918968524            0       0       0  1  0  \n",
       "82269914             0       0       0  1  0  \n",
       "325184350            0       0       0  1  0  \n",
       "566410288            1       0       0  0  1  \n",
       "\n",
       "[256 rows x 11 columns]"
      ]
     },
     "execution_count": 203,
     "metadata": {},
     "output_type": "execute_result"
    }
   ],
   "source": []
  },
  {
   "cell_type": "code",
   "execution_count": null,
   "metadata": {},
   "outputs": [],
   "source": []
  }
 ],
 "metadata": {
  "kernelspec": {
   "display_name": "Python 3",
   "language": "python",
   "name": "python3"
  },
  "language_info": {
   "codemirror_mode": {
    "name": "ipython",
    "version": 3
   },
   "file_extension": ".py",
   "mimetype": "text/x-python",
   "name": "python",
   "nbconvert_exporter": "python",
   "pygments_lexer": "ipython3",
   "version": "3.7.4"
  }
 },
 "nbformat": 4,
 "nbformat_minor": 4
}
